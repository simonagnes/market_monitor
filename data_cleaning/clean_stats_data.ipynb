{
 "cells": [
  {
   "cell_type": "markdown",
   "metadata": {},
   "source": [
    "Data scraped from realtor.com, downloaded from: \n",
    "https://www.kaggle.com/datasets/ahmedshahriarsakib/usa-real-estate-dataset/data"
   ]
  },
  {
   "cell_type": "code",
   "execution_count": null,
   "metadata": {},
   "outputs": [],
   "source": [
    "#import libraries\n",
    "import pandas as pd\n",
    "import numpy as np"
   ]
  },
  {
   "cell_type": "code",
   "execution_count": null,
   "metadata": {},
   "outputs": [],
   "source": [
    "#load data\n",
    "df = pd.read_csv('realtor-data.csv')\n",
    "df.head()"
   ]
  },
  {
   "cell_type": "code",
   "execution_count": null,
   "metadata": {},
   "outputs": [],
   "source": [
    "df.describe()"
   ]
  },
  {
   "cell_type": "code",
   "execution_count": null,
   "metadata": {},
   "outputs": [],
   "source": [
    "#filter the data and only include Texas listings\n",
    "df = df[df['state'] == \"Texas\"]\n",
    "df.head()"
   ]
  },
  {
   "cell_type": "code",
   "execution_count": null,
   "metadata": {},
   "outputs": [],
   "source": [
    "df.describe()"
   ]
  },
  {
   "cell_type": "code",
   "execution_count": null,
   "metadata": {},
   "outputs": [],
   "source": [
    "# list biggest brokers in texas\n",
    "df['brokered_by'].value_counts().nlargest(150)"
   ]
  },
  {
   "cell_type": "code",
   "execution_count": null,
   "metadata": {},
   "outputs": [],
   "source": [
    "#df[df['brokered_by'] == 53016]"
   ]
  },
  {
   "cell_type": "code",
   "execution_count": null,
   "metadata": {},
   "outputs": [],
   "source": [
    "# exclude data where no price available\n",
    "df = df.dropna(subset=['price'])"
   ]
  },
  {
   "cell_type": "code",
   "execution_count": null,
   "metadata": {},
   "outputs": [],
   "source": [
    "# create random dates\n",
    "def random_dates(start, end, n, unit='D', seed=None):\n",
    "    if not seed:\n",
    "        np.random.seed(0)\n",
    "\n",
    "    ndays = (end - start).days + 1\n",
    "    return start + pd.to_timedelta(\n",
    "        np.random.randint(0, ndays, n), unit=unit\n",
    "    )"
   ]
  },
  {
   "cell_type": "code",
   "execution_count": null,
   "metadata": {},
   "outputs": [],
   "source": [
    "# initialize arguments to create random dates\n",
    "start = pd.to_datetime('01-01-2024', utc=True, dayfirst=True)\n",
    "end = pd.to_datetime('30-06-2024', utc=True, dayfirst=True)\n",
    "rows = df.shape[0]\n",
    "dates = random_dates(start, end, rows )"
   ]
  },
  {
   "cell_type": "code",
   "execution_count": null,
   "metadata": {},
   "outputs": [],
   "source": [
    "# assign random dates to dataset\n",
    "# the random dates are assigned to column date_published, which is a publishing date for a listing for our dataset\n",
    "df = df.assign(date_published =  dates)"
   ]
  },
  {
   "cell_type": "code",
   "execution_count": null,
   "metadata": {},
   "outputs": [],
   "source": [
    "# exclude houses over 20000 sqft\n",
    "df = df[df['house_size'] <= 20000]"
   ]
  },
  {
   "cell_type": "code",
   "execution_count": null,
   "metadata": {},
   "outputs": [],
   "source": [
    "# assign a random sale date to data\n",
    "def compute_date_sold(row):\n",
    "    if row['status'] == 'for_sale':\n",
    "        return 0\n",
    "    else:\n",
    "        random_days = np.random.randint(0, 61)  # Random number between 0 and 60\n",
    "        return pd.to_datetime(row['date_published'] + pd.Timedelta(days=random_days))\n",
    "\n",
    "# Apply function to create the new column\n",
    "df['date_sold'] = df.apply(compute_date_sold, axis=1)\n",
    "df['date_sold'] = pd.to_datetime(df['date_sold'], format='%Y-%m-%d', errors='coerce')"
   ]
  },
  {
   "cell_type": "code",
   "execution_count": null,
   "metadata": {},
   "outputs": [],
   "source": [
    "links_list =['https://www.zillow.com/homedetails/2902-Meridian-Bay-Ln-Dickinson-TX-77539/71472548_zpid/',\n",
    "        'https://www.zillow.com/homedetails/3015-Misty-Isle-Ct-Dickinson-TX-77539/59823326_zpid/',\n",
    "        'https://www.zillow.com/homedetails/203-Armand-Bay-Dr-Dickinson-TX-77539/50447427_zpid/',\n",
    "        'https://www.zillow.com/homedetails/201-Creekside-Dr-League-City-TX-77573/27647595_zpid/',\n",
    "        'https://www.zillow.com/homedetails/4508-Brookstone-Ln-League-City-TX-77573/50445179_zpid/']"
   ]
  },
  {
   "cell_type": "code",
   "execution_count": null,
   "metadata": {},
   "outputs": [],
   "source": [
    "# assign random links to listings\n",
    "\n",
    "df['links'] = np.random.choice(links_list, size=len(df))\n",
    "def make_clickable(val):\n",
    "    # target _blank to open new window\n",
    "    return '<a target=\"_blank\" href=\"{}\">{}</a>'.format(val, val)\n",
    "\n",
    "df.style.format({'links': make_clickable})"
   ]
  },
  {
   "cell_type": "code",
   "execution_count": null,
   "metadata": {},
   "outputs": [],
   "source": [
    "df.to_csv('real_estate_broker_data_texas.csv')"
   ]
  },
  {
   "cell_type": "code",
   "execution_count": null,
   "metadata": {},
   "outputs": [],
   "source": [
    "df.head()"
   ]
  },
  {
   "cell_type": "code",
   "execution_count": null,
   "metadata": {},
   "outputs": [],
   "source": [
    "df['date_sold'].dtype"
   ]
  },
  {
   "cell_type": "code",
   "execution_count": null,
   "metadata": {},
   "outputs": [],
   "source": [
    "df['price'].dtype"
   ]
  },
  {
   "cell_type": "code",
   "execution_count": null,
   "metadata": {},
   "outputs": [],
   "source": [
    "df_sample = df.sample(frac=0.5, random_state=1)\n",
    "df.to_csv('sample_real_estate_broker_data_texas.csv')"
   ]
  },
  {
   "cell_type": "code",
   "execution_count": null,
   "metadata": {},
   "outputs": [],
   "source": []
  }
 ],
 "metadata": {
  "kernelspec": {
   "display_name": "Python 3",
   "language": "python",
   "name": "python3"
  },
  "language_info": {
   "codemirror_mode": {
    "name": "ipython",
    "version": 3
   },
   "file_extension": ".py",
   "mimetype": "text/x-python",
   "name": "python",
   "nbconvert_exporter": "python",
   "pygments_lexer": "ipython3",
   "version": "3.12.4"
  }
 },
 "nbformat": 4,
 "nbformat_minor": 2
}
